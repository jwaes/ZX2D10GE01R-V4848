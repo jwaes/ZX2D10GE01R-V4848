{
  "nbformat": 4,
  "nbformat_minor": 0,
  "metadata": {
    "colab": {
      "provenance": [],
      "authorship_tag": "ABX9TyNFmMlANBrfla0N/KIKXJKh",
      "include_colab_link": true
    },
    "kernelspec": {
      "name": "python3",
      "display_name": "Python 3"
    },
    "language_info": {
      "name": "python"
    }
  },
  "cells": [
    {
      "cell_type": "markdown",
      "metadata": {
        "id": "view-in-github",
        "colab_type": "text"
      },
      "source": [
        "<a href=\"https://colab.research.google.com/github/jwaes/ZX2D10GE01R-V4848/blob/master/netcalc.ipynb\" target=\"_parent\"><img src=\"https://colab.research.google.com/assets/colab-badge.svg\" alt=\"Open In Colab\"/></a>"
      ]
    },
    {
      "cell_type": "code",
      "execution_count": 1,
      "metadata": {
        "colab": {
          "base_uri": "https://localhost:8080/"
        },
        "id": "2YGgMKjCe3Dl",
        "outputId": "30fdacc5-7d6e-4429-8e74-a3cadf251296"
      },
      "outputs": [
        {
          "output_type": "stream",
          "name": "stdout",
          "text": [
            "EAN Number: 541448820047183849\n",
            "Start Date: 2023-05-05 00:00:00\n",
            "End Date: 2025-02-04 00:00:00\n"
          ]
        }
      ],
      "source": [
        "from datetime import datetime\n",
        "\n",
        "# Define your filename\n",
        "filename = \"Verbruikshistoriek_elektriciteit_541448820047183849_20230505_20250204_kwartiertotalen.csv\"\n",
        "\n",
        "# Split the filename into parts\n",
        "parts = filename.split('_')\n",
        "\n",
        "# Extract the variables from the parts\n",
        "ean_number    = parts[2]  # \"541448820047183849\"\n",
        "start_date_str = parts[3]  # \"20230505\"\n",
        "end_date_str   = parts[4]  # \"20250204\"\n",
        "\n",
        "# Convert the date strings into datetime objects\n",
        "start_date = datetime.strptime(start_date_str, \"%Y%m%d\")\n",
        "end_date   = datetime.strptime(end_date_str, \"%Y%m%d\")\n",
        "\n",
        "print(\"EAN Number:\", ean_number)\n",
        "print(\"Start Date:\", start_date)\n",
        "print(\"End Date:\", end_date)"
      ]
    },
    {
      "cell_type": "code",
      "source": [],
      "metadata": {
        "id": "2AFeat1joVku"
      },
      "execution_count": null,
      "outputs": []
    },
    {
      "cell_type": "code",
      "source": [
        "import pandas as pd\n",
        "\n",
        "# Read the CSV file with the proper delimiter and decimal settings\n",
        "df = pd.read_csv(\n",
        "    filename,\n",
        "    delimiter=';',\n",
        "    decimal=','\n",
        ")\n",
        "\n",
        "# Preview the first few rows\n",
        "print(df.head())\n",
        "\n",
        "# --- Cleaning the Data ---\n",
        "\n",
        "# Clean the EAN-code column by removing the extra characters (=\" and \")\n",
        "df['EAN-code'] = df['EAN-code'].astype(str).str.replace('=\"', '', regex=False).str.replace('\"', '', regex=False)\n",
        "\n",
        "# Combine the date and time columns for the \"start\" timestamps into a single datetime column\n",
        "df['Start_datetime'] = pd.to_datetime(\n",
        "    df['Van (datum)'] + ' ' + df['Van (tijdstip)'],\n",
        "    format='%d-%m-%Y %H:%M:%S'\n",
        ")\n",
        "\n",
        "# Similarly, combine the \"end\" date and time columns into a single datetime column\n",
        "df['End_datetime'] = pd.to_datetime(\n",
        "    df['Tot (datum)'] + ' ' + df['Tot (tijdstip)'],\n",
        "    format='%d-%m-%Y %H:%M:%S'\n",
        ")\n",
        "\n",
        "# Convert the \"Volume\" column to a numeric type; any non-numeric entries will be set as NaN\n",
        "df['Volume'] = pd.to_numeric(df['Volume'], errors='coerce')\n",
        "\n",
        "# Check the data types to ensure everything is ready for calculations\n",
        "print(df.info())\n"
      ],
      "metadata": {
        "colab": {
          "base_uri": "https://localhost:8080/"
        },
        "id": "kPFwEy1IghYi",
        "outputId": "6b5fc585-25fc-4c2b-c450-4c3cb8cecded"
      },
      "execution_count": 2,
      "outputs": [
        {
          "output_type": "stream",
          "name": "stdout",
          "text": [
            "  Van (datum) Van (tijdstip) Tot (datum) Tot (tijdstip)  \\\n",
            "0  05-05-2023       00:00:00  05-05-2023       00:15:00   \n",
            "1  05-05-2023       00:00:00  05-05-2023       00:15:00   \n",
            "2  05-05-2023       00:15:00  05-05-2023       00:30:00   \n",
            "3  05-05-2023       00:15:00  05-05-2023       00:30:00   \n",
            "4  05-05-2023       00:30:00  05-05-2023       00:45:00   \n",
            "\n",
            "                EAN-code           Meter       Metertype        Register  \\\n",
            "0  =\"541448820047183849\"  1SAG3105019704  Digitale meter    Afname Nacht   \n",
            "1  =\"541448820047183849\"  1SAG3105019704  Digitale meter  Injectie Nacht   \n",
            "2  =\"541448820047183849\"  1SAG3105019704  Digitale meter    Afname Nacht   \n",
            "3  =\"541448820047183849\"  1SAG3105019704  Digitale meter  Injectie Nacht   \n",
            "4  =\"541448820047183849\"  1SAG3105019704  Digitale meter    Afname Nacht   \n",
            "\n",
            "   Volume Eenheid Validatiestatus   Omschrijving  \n",
            "0     NaN     kWh   Geen verbruik  Hoofdverblijf  \n",
            "1     NaN     kWh   Geen verbruik  Hoofdverblijf  \n",
            "2   0.045     kWh      Uitgelezen  Hoofdverblijf  \n",
            "3   0.000     kWh      Uitgelezen  Hoofdverblijf  \n",
            "4   0.042     kWh      Uitgelezen  Hoofdverblijf  \n",
            "<class 'pandas.core.frame.DataFrame'>\n",
            "RangeIndex: 123080 entries, 0 to 123079\n",
            "Data columns (total 14 columns):\n",
            " #   Column           Non-Null Count   Dtype         \n",
            "---  ------           --------------   -----         \n",
            " 0   Van (datum)      123080 non-null  object        \n",
            " 1   Van (tijdstip)   123080 non-null  object        \n",
            " 2   Tot (datum)      123080 non-null  object        \n",
            " 3   Tot (tijdstip)   123080 non-null  object        \n",
            " 4   EAN-code         123080 non-null  object        \n",
            " 5   Meter            123080 non-null  object        \n",
            " 6   Metertype        123080 non-null  object        \n",
            " 7   Register         123080 non-null  object        \n",
            " 8   Volume           122499 non-null  float64       \n",
            " 9   Eenheid          123080 non-null  object        \n",
            " 10  Validatiestatus  123080 non-null  object        \n",
            " 11  Omschrijving     123080 non-null  object        \n",
            " 12  Start_datetime   123080 non-null  datetime64[ns]\n",
            " 13  End_datetime     123080 non-null  datetime64[ns]\n",
            "dtypes: datetime64[ns](2), float64(1), object(11)\n",
            "memory usage: 13.1+ MB\n",
            "None\n"
          ]
        }
      ]
    },
    {
      "cell_type": "code",
      "source": [
        "# prompt: describe the ods134.parquet file content\n",
        "\n",
        "import pandas as pd\n",
        "\n",
        "# Assuming 'ods134.parquet' is in the current working directory\n",
        "try:\n",
        "    df_parquet = pd.read_parquet('ods134.parquet')\n",
        "    print(df_parquet.info())  # Print info about columns, data types, non-null counts, etc.\n",
        "    print(df_parquet.head())   # Show the first few rows of the DataFrame\n",
        "    print(df_parquet.describe()) # Descriptive statistics for numerical columns\n",
        "except FileNotFoundError:\n",
        "    print(\"Error: 'ods134.parquet' not found. Please make sure the file exists in the current directory or provide the correct path.\")\n",
        "except Exception as e:\n",
        "    print(f\"An error occurred: {e}\")\n"
      ],
      "metadata": {
        "colab": {
          "base_uri": "https://localhost:8080/"
        },
        "id": "Pxidg7D8mv0J",
        "outputId": "2026118a-73cb-4091-a756-eec3093625a1"
      },
      "execution_count": 3,
      "outputs": [
        {
          "output_type": "stream",
          "name": "stdout",
          "text": [
            "<class 'pandas.core.frame.DataFrame'>\n",
            "RangeIndex: 24700 entries, 0 to 24699\n",
            "Data columns (total 10 columns):\n",
            " #   Column                    Non-Null Count  Dtype                          \n",
            "---  ------                    --------------  -----                          \n",
            " 0   datetime                  24700 non-null  datetime64[ms, Europe/Brussels]\n",
            " 1   resolutioncode            24700 non-null  object                         \n",
            " 2   qualitystatus             24700 non-null  object                         \n",
            " 3   ace                       24700 non-null  float64                        \n",
            " 4   systemimbalance           24700 non-null  float64                        \n",
            " 5   alpha                     24700 non-null  float64                        \n",
            " 6   alpha_prime               20860 non-null  float64                        \n",
            " 7   marginalincrementalprice  24700 non-null  float64                        \n",
            " 8   marginaldecrementalprice  24700 non-null  float64                        \n",
            " 9   imbalanceprice            24700 non-null  float64                        \n",
            "dtypes: datetime64[ms, Europe/Brussels](1), float64(7), object(2)\n",
            "memory usage: 1.9+ MB\n",
            "None\n",
            "                   datetime resolutioncode qualitystatus     ace  \\\n",
            "0 2025-02-03 05:45:00+01:00          PT15M     DataIssue   3.149   \n",
            "1 2025-02-03 05:30:00+01:00          PT15M     DataIssue  -3.669   \n",
            "2 2025-02-03 05:15:00+01:00          PT15M     DataIssue  -1.411   \n",
            "3 2025-02-03 05:00:00+01:00          PT15M     DataIssue  -1.090   \n",
            "4 2025-02-03 04:45:00+01:00          PT15M     DataIssue  13.247   \n",
            "\n",
            "   systemimbalance  alpha  alpha_prime  marginalincrementalprice  \\\n",
            "0           25.334  0.000          0.0                    150.00   \n",
            "1           77.179  0.000          0.0                    150.00   \n",
            "2          108.843  0.000          0.0                    150.00   \n",
            "3          274.299  4.841          0.0                    150.00   \n",
            "4          145.124  0.000          0.0                    155.61   \n",
            "\n",
            "   marginaldecrementalprice  imbalanceprice  \n",
            "0                   102.939         102.939  \n",
            "1                   -80.000         -80.000  \n",
            "2                   -80.000         -80.000  \n",
            "3                   109.711         104.870  \n",
            "4                   120.077         120.077  \n",
            "                ace  systemimbalance         alpha   alpha_prime  \\\n",
            "count  24700.000000     24700.000000  24700.000000  20860.000000   \n",
            "mean      -3.112356       -47.540884      2.946321      0.000791   \n",
            "std       40.117696       158.268992     13.941997      0.114180   \n",
            "min     -728.416000     -1681.317000      0.000000      0.000000   \n",
            "25%      -11.673250      -117.008000      0.000000      0.000000   \n",
            "50%       -0.373500       -35.015000      0.000000      0.000000   \n",
            "75%       10.206500        32.044000      0.000000      0.000000   \n",
            "max      733.101000      1147.372000    199.847000     16.491000   \n",
            "\n",
            "       marginalincrementalprice  marginaldecrementalprice  imbalanceprice  \n",
            "count              24700.000000              24700.000000    24700.000000  \n",
            "mean                 169.539061               -101.972463       85.120956  \n",
            "std                   91.995634                209.181074      196.465255  \n",
            "min                  -44.000000               -980.000000     -980.000000  \n",
            "25%                  119.278750               -189.573250       36.653750  \n",
            "50%                  150.000000                -23.363000      115.000000  \n",
            "75%                  212.700500                 53.623750      195.413500  \n",
            "max                 2479.090000                706.120000     2450.000000  \n"
          ]
        }
      ]
    },
    {
      "cell_type": "code",
      "source": [],
      "metadata": {
        "id": "jtBFT9Replu7"
      },
      "execution_count": null,
      "outputs": []
    },
    {
      "cell_type": "code",
      "source": [
        "# prompt: describe the ods047.parquet file content\n",
        "\n",
        "import pandas as pd\n",
        "\n",
        "# Assuming 'ods047.parquet' is in the current working directory\n",
        "try:\n",
        "    df_parquet = pd.read_parquet('ods047.parquet')\n",
        "    print(df_parquet.info())  # Print info about columns, data types, non-null counts, etc.\n",
        "    print(df_parquet.head())   # Show the first few rows of the DataFrame\n",
        "    print(df_parquet.describe()) # Descriptive statistics for numerical columns\n",
        "except FileNotFoundError:\n",
        "    print(\"Error: 'ods047.parquet' not found. Please make sure the file exists in the current directory or provide the correct path.\")\n",
        "except Exception as e:\n",
        "    print(f\"An error occurred: {e}\")\n"
      ],
      "metadata": {
        "colab": {
          "base_uri": "https://localhost:8080/"
        },
        "outputId": "034c90c2-c6a2-4315-d143-9991e27f7c3c",
        "id": "NhS9JxIGpnMj"
      },
      "execution_count": 10,
      "outputs": [
        {
          "output_type": "stream",
          "name": "stdout",
          "text": [
            "<class 'pandas.core.frame.DataFrame'>\n",
            "RangeIndex: 329180 entries, 0 to 329179\n",
            "Data columns (total 11 columns):\n",
            " #   Column                    Non-Null Count   Dtype                          \n",
            "---  ------                    --------------   -----                          \n",
            " 0   datetime                  329180 non-null  datetime64[ms, Europe/Brussels]\n",
            " 1   qualitystatus             329180 non-null  object                         \n",
            " 2   resolutioncode            329180 non-null  object                         \n",
            " 3   netregulationvolume       329180 non-null  float64                        \n",
            " 4   systemimbalance           329180 non-null  float64                        \n",
            " 5   alpha                     329180 non-null  float64                        \n",
            " 6   marginalincrementalprice  329180 non-null  float64                        \n",
            " 7   marginaldecrementalprice  329180 non-null  float64                        \n",
            " 8   strategicreserveprice     716 non-null     float64                        \n",
            " 9   positiveimbalanceprice    329180 non-null  float64                        \n",
            " 10  negativeimbalanceprice    329180 non-null  float64                        \n",
            "dtypes: datetime64[ms, Europe/Brussels](1), float64(8), object(2)\n",
            "memory usage: 27.6+ MB\n",
            "None\n",
            "                   datetime qualitystatus resolutioncode  netregulationvolume  \\\n",
            "0 2024-05-21 23:45:00+02:00     Validated          PT15M               56.474   \n",
            "1 2024-05-21 23:30:00+02:00     Validated          PT15M               84.264   \n",
            "2 2024-05-21 23:15:00+02:00     Validated          PT15M               63.907   \n",
            "3 2024-05-21 23:00:00+02:00     Validated          PT15M               88.163   \n",
            "4 2024-05-21 22:45:00+02:00     Validated          PT15M               46.319   \n",
            "\n",
            "   systemimbalance  alpha  marginalincrementalprice  marginaldecrementalprice  \\\n",
            "0          -65.454    0.0                     70.00                     29.76   \n",
            "1         -112.370    0.0                     94.89                     30.00   \n",
            "2          -92.096    0.0                    120.88                     29.50   \n",
            "3         -122.046    0.0                    122.44                   -330.94   \n",
            "4          -54.042    0.0                    120.78                     23.63   \n",
            "\n",
            "   strategicreserveprice  positiveimbalanceprice  negativeimbalanceprice  \n",
            "0                    NaN                   70.00                   70.00  \n",
            "1                    NaN                   94.89                   94.89  \n",
            "2                    NaN                  120.88                  120.88  \n",
            "3                    NaN                  122.44                  122.44  \n",
            "4                    NaN                  120.78                  120.78  \n",
            "       netregulationvolume  systemimbalance          alpha  \\\n",
            "count        329180.000000    329180.000000  329180.000000   \n",
            "mean              5.075166        -5.248238       2.094615   \n",
            "std             133.941861       161.951523      10.879375   \n",
            "min           -2211.600000     -1685.325000       0.000000   \n",
            "25%             -75.058250       -93.859000       0.000000   \n",
            "50%               2.337500        -1.735500       0.000000   \n",
            "75%              82.307000        86.916250       0.920000   \n",
            "max            1535.723000      2411.871000     200.000000   \n",
            "\n",
            "       marginalincrementalprice  marginaldecrementalprice  \\\n",
            "count             329180.000000             329180.000000   \n",
            "mean                 118.335118                 12.523683   \n",
            "std                  116.327982                 72.899548   \n",
            "min                 -950.000000              -4574.690000   \n",
            "25%                   58.360000                  3.440000   \n",
            "50%                   73.740000                 10.320000   \n",
            "75%                  136.402500                 20.390000   \n",
            "max                 3455.720000                426.100000   \n",
            "\n",
            "       strategicreserveprice  positiveimbalanceprice  negativeimbalanceprice  \n",
            "count             716.000000           329180.000000           329180.000000  \n",
            "mean               81.077249               74.392847               74.820548  \n",
            "std               107.502207              127.449112              127.425745  \n",
            "min              -180.000000            -4574.690000            -4574.690000  \n",
            "25%                14.230000                9.740000               10.000000  \n",
            "50%                50.500000               52.810000               53.000000  \n",
            "75%                80.000000               92.200000               92.640000  \n",
            "max               582.820000             3455.720000             3455.720000  \n"
          ]
        }
      ]
    },
    {
      "cell_type": "code",
      "source": [
        "# prompt: create a joined dataset consisting of the common columns of both ods134.parquet and ods047.parquet files\n",
        "\n",
        "import pandas as pd\n",
        "\n",
        "try:\n",
        "    df_ods134 = pd.read_parquet('ods134.parquet')\n",
        "    df_ods047 = pd.read_parquet('ods047.parquet')\n",
        "\n",
        "    # Find common columns\n",
        "    common_cols = list(set(df_ods134.columns) & set(df_ods047.columns))\n",
        "\n",
        "    # Create joined dataset\n",
        "    if common_cols:\n",
        "        joined_df = pd.merge(df_ods134[common_cols], df_ods047[common_cols], how='inner', on=common_cols)\n",
        "        print(joined_df.info())  # Print info about columns, data types, non-null counts, etc.\n",
        "        print(joined_df.head())   # Show the first few rows of the DataFrame\n",
        "        print(joined_df.describe()) # Descriptive statistics for numerical columns\n",
        "    else:\n",
        "        print(\"No common columns found between the two datasets.\")\n",
        "\n",
        "except FileNotFoundError:\n",
        "    print(\"Error: One or both parquet files not found.  Please ensure 'ods134.parquet' and 'ods047.parquet' are in the current directory.\")\n",
        "except Exception as e:\n",
        "    print(f\"An error occurred: {e}\")\n"
      ],
      "metadata": {
        "colab": {
          "base_uri": "https://localhost:8080/"
        },
        "id": "b1TUWwtnnj3D",
        "outputId": "395fc3d9-282a-41a9-e9b4-a6b258e8de9b"
      },
      "execution_count": 7,
      "outputs": [
        {
          "output_type": "stream",
          "name": "stdout",
          "text": [
            "<class 'pandas.core.frame.DataFrame'>\n",
            "RangeIndex: 0 entries\n",
            "Data columns (total 7 columns):\n",
            " #   Column                    Non-Null Count  Dtype                          \n",
            "---  ------                    --------------  -----                          \n",
            " 0   alpha                     0 non-null      float64                        \n",
            " 1   qualitystatus             0 non-null      object                         \n",
            " 2   resolutioncode            0 non-null      object                         \n",
            " 3   marginaldecrementalprice  0 non-null      float64                        \n",
            " 4   systemimbalance           0 non-null      float64                        \n",
            " 5   marginalincrementalprice  0 non-null      float64                        \n",
            " 6   datetime                  0 non-null      datetime64[ms, Europe/Brussels]\n",
            "dtypes: datetime64[ms, Europe/Brussels](1), float64(4), object(2)\n",
            "memory usage: 132.0+ bytes\n",
            "None\n",
            "Empty DataFrame\n",
            "Columns: [alpha, qualitystatus, resolutioncode, marginaldecrementalprice, systemimbalance, marginalincrementalprice, datetime]\n",
            "Index: []\n",
            "       alpha  marginaldecrementalprice  systemimbalance  \\\n",
            "count    0.0                       0.0              0.0   \n",
            "mean     NaN                       NaN              NaN   \n",
            "std      NaN                       NaN              NaN   \n",
            "min      NaN                       NaN              NaN   \n",
            "25%      NaN                       NaN              NaN   \n",
            "50%      NaN                       NaN              NaN   \n",
            "75%      NaN                       NaN              NaN   \n",
            "max      NaN                       NaN              NaN   \n",
            "\n",
            "       marginalincrementalprice  \n",
            "count                       0.0  \n",
            "mean                        NaN  \n",
            "std                         NaN  \n",
            "min                         NaN  \n",
            "25%                         NaN  \n",
            "50%                         NaN  \n",
            "75%                         NaN  \n",
            "max                         NaN  \n"
          ]
        }
      ]
    },
    {
      "cell_type": "code",
      "source": [
        "import pandas as pd\n",
        "\n",
        "try:\n",
        "    df_ods134 = pd.read_parquet('ods134.parquet')\n",
        "    df_ods047 = pd.read_parquet('ods047.parquet')\n",
        "\n",
        "    # Find common columns between the two DataFrames\n",
        "    common_cols = list(set(df_ods134.columns) & set(df_ods047.columns))\n",
        "\n",
        "    if common_cols:\n",
        "        # Concatenate the two DataFrames, keeping only the common columns\n",
        "        joined_df = pd.concat([df_ods134[common_cols], df_ods047[common_cols]], ignore_index=True)\n",
        "        print(joined_df.info())   # Print info about columns, data types, non-null counts, etc.\n",
        "        print(joined_df.head())   # Show the first few rows of the DataFrame\n",
        "        print(joined_df.describe())  # Descriptive statistics for numerical columns\n",
        "    else:\n",
        "        print(\"No common columns found between the two datasets.\")\n",
        "\n",
        "except FileNotFoundError:\n",
        "    print(\"Error: One or both parquet files not found. Please ensure 'ods134.parquet' and 'ods047.parquet' are in the current directory.\")\n",
        "except Exception as e:\n",
        "    print(f\"An error occurred: {e}\")\n"
      ],
      "metadata": {
        "colab": {
          "base_uri": "https://localhost:8080/"
        },
        "id": "yojzHak7rdu7",
        "outputId": "d8cbba3c-fba7-40b3-dfd7-88fbbf3bdbde"
      },
      "execution_count": 12,
      "outputs": [
        {
          "output_type": "stream",
          "name": "stdout",
          "text": [
            "<class 'pandas.core.frame.DataFrame'>\n",
            "RangeIndex: 353880 entries, 0 to 353879\n",
            "Data columns (total 7 columns):\n",
            " #   Column                    Non-Null Count   Dtype                          \n",
            "---  ------                    --------------   -----                          \n",
            " 0   alpha                     353880 non-null  float64                        \n",
            " 1   qualitystatus             353880 non-null  object                         \n",
            " 2   resolutioncode            353880 non-null  object                         \n",
            " 3   marginaldecrementalprice  353880 non-null  float64                        \n",
            " 4   systemimbalance           353880 non-null  float64                        \n",
            " 5   marginalincrementalprice  353880 non-null  float64                        \n",
            " 6   datetime                  353880 non-null  datetime64[ms, Europe/Brussels]\n",
            "dtypes: datetime64[ms, Europe/Brussels](1), float64(4), object(2)\n",
            "memory usage: 18.9+ MB\n",
            "None\n",
            "   alpha qualitystatus resolutioncode  marginaldecrementalprice  \\\n",
            "0  0.000     DataIssue          PT15M                   102.939   \n",
            "1  0.000     DataIssue          PT15M                   -80.000   \n",
            "2  0.000     DataIssue          PT15M                   -80.000   \n",
            "3  4.841     DataIssue          PT15M                   109.711   \n",
            "4  0.000     DataIssue          PT15M                   120.077   \n",
            "\n",
            "   systemimbalance  marginalincrementalprice                  datetime  \n",
            "0           25.334                    150.00 2025-02-03 05:45:00+01:00  \n",
            "1           77.179                    150.00 2025-02-03 05:30:00+01:00  \n",
            "2          108.843                    150.00 2025-02-03 05:15:00+01:00  \n",
            "3          274.299                    150.00 2025-02-03 05:00:00+01:00  \n",
            "4          145.124                    155.61 2025-02-03 04:45:00+01:00  \n",
            "               alpha  marginaldecrementalprice  systemimbalance  \\\n",
            "count  353880.000000             353880.000000    353880.000000   \n",
            "mean        2.154062                  4.532119        -8.200166   \n",
            "std        11.122647                 94.066769       162.055698   \n",
            "min         0.000000              -4574.690000     -1685.325000   \n",
            "25%         0.000000                  2.650000       -95.669000   \n",
            "50%         0.000000                 10.100000        -4.411000   \n",
            "75%         0.890000                 21.180250        83.344000   \n",
            "max       200.000000                706.120000      2411.871000   \n",
            "\n",
            "       marginalincrementalprice  \n",
            "count             353880.000000  \n",
            "mean                 121.909034  \n",
            "std                  115.536125  \n",
            "min                 -950.000000  \n",
            "25%                   59.230000  \n",
            "50%                   76.550000  \n",
            "75%                  150.000000  \n",
            "max                 3455.720000  \n"
          ]
        }
      ]
    }
  ]
}